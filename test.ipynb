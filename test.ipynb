{
 "metadata": {
  "name": "",
  "signature": "sha256:ebbbb443c9d64268a7b1f09880d247feffb5e05d755af5fb4522c951b52b5792"
 },
 "nbformat": 3,
 "nbformat_minor": 0,
 "worksheets": [
  {
   "cells": [
    {
     "cell_type": "code",
     "collapsed": false,
     "input": [
      "indx = {0:['id', (0,0)],\n",
      "                    14:['flag', (0,0)],\n",
      "                    15:['flux_c1_1', (1,1)],\n",
      "                    16:['err_c1_1', (1,1)],\n",
      "                    17:['flux_c1_2', (1,2)],\n",
      "                    18:['err_c1_2', (1,2)],\n",
      "                    19:['flux_c1_3', (1,3)],\n",
      "                    20:['err_c1_3', (1,3)],\n",
      "                    21:['flux_c1_4', (1,4)],\n",
      "                    22:['err_c1_4', (1,4)],\n",
      "                    23:['fl_c1', (1,0)],\n",
      "                    24:['flux_c2_1', (2,1)],\n",
      "                    25:['err_c2_1', (2,1)],\n",
      "                    26:['flux_c2_2', (2,2)],\n",
      "                    27:['err_c2_2', (2,2)],\n",
      "                    28:['flux_c2_3', (2,3)],\n",
      "                    29:['err_c2_3', (2,3)],\n",
      "                    30:['flux_c2_4', (2,4)],\n",
      "                    31:['err_c2_4', (2,4)],\n",
      "                    32:['fl_c2', (2,0)],\n",
      "                    33:['flux_c3_1', (3,1)],\n",
      "                    34:['err_c3_1', (3,1)],\n",
      "                    35:['flux_c3_2', (3,2)],\n",
      "                    36:['err_c3_2', (3,2)],\n",
      "                    37:['flux_c3_3', (3,3)],\n",
      "                    38:['err_c3_3', (3,3)],\n",
      "                    39:['flux_c3_4', (3,4)],\n",
      "                    40:['err_c3_4', (3,4)],\n",
      "                    41:['fl_c3', (3,0)],\n",
      "                    42:['flux_c4_1', (4,1)],\n",
      "                    43:['err_c4_1', (4,1)],\n",
      "                    44:['flux_c4_2', (4,2)],\n",
      "                    45:['err_c4_2', (4,2)],\n",
      "                    46:['flux_c4_3', (4,3)],\n",
      "                    47:['err_c4_3', (4,3)],\n",
      "                    48:['flux_c4_4', (4,4)],\n",
      "                    49:['err_c4_4', (4,4)],\n",
      "                    50:['fl_c4', (4,0)]};"
     ],
     "language": "python",
     "metadata": {},
     "outputs": [],
     "prompt_number": 1
    },
    {
     "cell_type": "code",
     "collapsed": false,
     "input": [
      "ch = []\n",
      "for a in xrange(4):\n",
      "    A = a+1 \n",
      "    ch.append([k for k in indx.keys() if indx[k][0].startswith('flux') and indx[k][1][1] == A])"
     ],
     "language": "python",
     "metadata": {},
     "outputs": [],
     "prompt_number": 11
    },
    {
     "cell_type": "code",
     "collapsed": false,
     "input": [
      "ch"
     ],
     "language": "python",
     "metadata": {},
     "outputs": [
      {
       "metadata": {},
       "output_type": "pyout",
       "prompt_number": 12,
       "text": [
        "[[15, 24, 33, 42], [17, 26, 35, 44], [19, 28, 37, 46], [21, 30, 39, 48]]"
       ]
      }
     ],
     "prompt_number": 12
    },
    {
     "cell_type": "code",
     "collapsed": false,
     "input": [
      "CH = [[k for k in indx.keys() if indx[k][0].startswith('flux') and indx[k][1][1] == a+1] for a in xrange(4)]\n",
      "CH"
     ],
     "language": "python",
     "metadata": {},
     "outputs": [
      {
       "metadata": {},
       "output_type": "pyout",
       "prompt_number": 15,
       "text": [
        "[[15, 24, 33, 42], [17, 26, 35, 44], [19, 28, 37, 46], [21, 30, 39, 48]]"
       ]
      }
     ],
     "prompt_number": 15
    },
    {
     "cell_type": "code",
     "collapsed": false,
     "input": [
      "a = 4\n",
      "c = 3\n",
      "CH[a-1][c-1]"
     ],
     "language": "python",
     "metadata": {},
     "outputs": [
      {
       "metadata": {},
       "output_type": "pyout",
       "prompt_number": 19,
       "text": [
        "39"
       ]
      }
     ],
     "prompt_number": 19
    },
    {
     "cell_type": "code",
     "collapsed": false,
     "input": [],
     "language": "python",
     "metadata": {},
     "outputs": []
    }
   ],
   "metadata": {}
  }
 ]
}