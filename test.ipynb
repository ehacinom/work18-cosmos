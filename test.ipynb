{
 "metadata": {
  "name": "",
  "signature": "sha256:6445adf5f964d92ab1739243b57a310b863b2c1ad1662a3babca1be9ff7301ca"
 },
 "nbformat": 3,
 "nbformat_minor": 0,
 "worksheets": [
  {
   "cells": [
    {
     "cell_type": "raw",
     "metadata": {},
     "source": [
      "         1.4''   1.9''   2.9''   4.1  \n",
      "\n",
      " ch1    0.610   0.765   0.900   0.950\n",
      " ch2    0.590   0.740   0.900   0.940\n",
      " ch3    0.490   0.625   0.840   0.940\n",
      " ch4    0.450   0.580   0.730   0.910"
     ]
    },
    {
     "cell_type": "code",
     "collapsed": false,
     "input": [
      "import numpy as np\n",
      "\n",
      "corr =np.array(\n",
      "[[0.610,0.765,0.900,0.950],\n",
      "[0.590,0.740,0.900,0.940],\n",
      "[0.490,0.625,0.840,0.940],\n",
      "[0.450,0.580,0.730,0.910]])\n",
      "K=[-2.788, -3.255, -3.743, -4.372]"
     ],
     "language": "python",
     "metadata": {},
     "outputs": [],
     "prompt_number": 4
    },
    {
     "cell_type": "code",
     "collapsed": false,
     "input": [
      "corr[(1,3)]"
     ],
     "language": "python",
     "metadata": {},
     "outputs": [
      {
       "metadata": {},
       "output_type": "pyout",
       "prompt_number": 5,
       "text": [
        "0.93999999999999995"
       ]
      }
     ],
     "prompt_number": 5
    },
    {
     "cell_type": "code",
     "collapsed": false,
     "input": [
      "corr[0][1]"
     ],
     "language": "python",
     "metadata": {},
     "outputs": [
      {
       "metadata": {},
       "output_type": "pyout",
       "prompt_number": 6,
       "text": [
        "0.76500000000000001"
       ]
      }
     ],
     "prompt_number": 6
    },
    {
     "cell_type": "code",
     "collapsed": false,
     "input": [],
     "language": "python",
     "metadata": {},
     "outputs": []
    }
   ],
   "metadata": {}
  }
 ]
}